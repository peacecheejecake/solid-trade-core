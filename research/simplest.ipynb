{
 "cells": [
  {
   "cell_type": "code",
   "execution_count": 35,
   "metadata": {
    "id": "zxJJr8GBJibw"
   },
   "outputs": [],
   "source": [
    "import requests\n",
    "import json\n",
    "from datetime import datetime, timedelta\n",
    "import os\n",
    "import pandas as pd\n",
    "from tqdm import tqdm"
   ]
  },
  {
   "cell_type": "code",
   "execution_count": 28,
   "metadata": {
    "id": "z60dCKiTJkI0"
   },
   "outputs": [],
   "source": [
    "file_dir = \"/Users/minjiwon/solid-trade-core/research/data\"\n",
    "\n",
    "url_base = \"https://api.upbit.com/v1/candles/minutes/1\"\n",
    "headers = {\"accept\": \"application/json\"}"
   ]
  },
  {
   "cell_type": "code",
   "execution_count": 26,
   "metadata": {
    "id": "KFGI9FcAodQt"
   },
   "outputs": [],
   "source": [
    "def print_list_prettier(arr):\n",
    "    if (type(arr) != list):\n",
    "        print(arr)\n",
    "        return\n",
    "\n",
    "    for line in arr:\n",
    "        print_list_prettier(line)\n",
    "\n",
    "\n",
    "def save_parquet(df, file_name, attach_timestamp=True, postfix=\"\"):\n",
    "    file_name = '.parquet'.join([chunk for chunk in file_name.split('.parquet')])\n",
    "\n",
    "    if attach_timestamp:\n",
    "        timestamp = ''.join(str(datetime.now()).split('.')[:-1]).replace('-', '_').replace(':', '_').replace('.', '_').replace(' ', '_').replace('_', '')\n",
    "        file_name += f\"_{timestamp}\"\n",
    "\n",
    "    if postfix:\n",
    "        file_name += f\"_{postfix}\"\n",
    "        \n",
    "    path = os.path.join(file_dir, f\"{file_name}.parquet\")\n",
    "    df.to_parquet(path)\n",
    "    print(f\"Saved parquet file on: {path}\")\n",
    "\n",
    "\n",
    "def load_parquet(file_name):\n",
    "    path = os.path.join(file_dir, file_name)\n",
    "\n",
    "    if not os.path.exists(path) or file_name.split('.')[-1] != 'parquet':\n",
    "        raise Exception(f'No File: {path}')\n",
    "        return\n",
    "    \n",
    "    return pd.read_parquet(path)"
   ]
  },
  {
   "cell_type": "code",
   "execution_count": 43,
   "metadata": {
    "id": "XS7lUwkHb4y2"
   },
   "outputs": [],
   "source": [
    "def _load_data(market, num_days=10, count=200, file_name=None):\n",
    "    market = 'KRW-ETC' if market.lower() == 'etc' else 'KRW-BTC'\n",
    "\n",
    "    to = datetime.now()\n",
    "    num_batches = int(num_days * 24 * 60 / count)\n",
    "\n",
    "    data = []\n",
    "\n",
    "    for i in range(num_batches):\n",
    "        print(f'\\r{i + 1}/{num_batches}', end=\"\")\n",
    "        url = f\"{url_base}?market={market}&count={count}&to={str(to).split('.')[:-1][0]}\"\n",
    "        response = requests.get(url, headers=headers)\n",
    "        data += json.loads(response.text)\n",
    "        to -= timedelta(minutes=count)\n",
    "\n",
    "    print()\n",
    "    \n",
    "    df = pd.DataFrame(data=data)\n",
    "\n",
    "    if file_name:\n",
    "        save_parquet(df, file_name)\n",
    "    \n",
    "    return df\n",
    "\n",
    "\n",
    "def _preprocess(data, k=1.01, margin=0, verbose='new_line', file_name=None):\n",
    "    _data = data.copy().iloc[::-1].reset_index(drop=True)\n",
    "\n",
    "    _data.insert(5, 'mid_price', (_data['high_price'] + _data['low_price']) / 2)\n",
    "    _data.insert(0, 'price_change_rate', 0)\n",
    "\n",
    "    for r in tqdm(range(1, len(_data)), ncols=70, leave=False):\n",
    "        if verbose:\n",
    "            print(f\"\\r{r + 1}/{len(_data)}\", end=\"\")\n",
    "\n",
    "        curr = _data.iloc[r].mid_price\n",
    "        prev = _data.iloc[r - 1].mid_price\n",
    "        _data.iloc[r, 0] = (curr - prev) / prev\n",
    "    \n",
    "    if verbose:\n",
    "        print('', end='\\n' if verbose == 'new_line' else '\\r')\n",
    "\n",
    "    inf = len(_data) + 1\n",
    "\n",
    "    _data.insert(0, 'until_target_mid', inf)\n",
    "\n",
    "    stack = []\n",
    "    for r in range(len(_data) - 1, -1, -1):\n",
    "        if verbose:\n",
    "            print(f\"\\r{len(_data) - r}/{len(_data)}\", end=\"\")\n",
    "\n",
    "        curr = _data.iloc[r].mid_price\n",
    "\n",
    "        while stack:\n",
    "            [i, p] = stack[-1]\n",
    "            if curr > p:\n",
    "                stack.pop()\n",
    "            else:\n",
    "                _data.iloc[r, 0] = i - r\n",
    "                stack.append([r, curr / k])\n",
    "                break\n",
    "        \n",
    "        if not stack:\n",
    "            stack.append([r, curr / k])\n",
    "\n",
    "    if verbose:\n",
    "        print('', end='\\n' if verbose == 'new_line' else '\\r')\n",
    "\n",
    "    _data.insert(0, 'until_target_low_high', inf)\n",
    "\n",
    "    stack = []\n",
    "    for r in range(len(_data) - 1, -1, -1):\n",
    "        if verbose:\n",
    "            print(f\"\\r{len(_data) - r}/{len(_data)}\", end=\"\")\n",
    "\n",
    "        curr_low = _data.iloc[r].low_price\n",
    "        curr_high = _data.iloc[r].high_price\n",
    "\n",
    "        if curr_high * (1 - margin) >= curr_low * (1 + margin) * k:\n",
    "            _data.iloc[r, 0] = 0\n",
    "\n",
    "        while stack:\n",
    "            [i, high] = stack[-1]\n",
    "            if curr_low > high:\n",
    "                stack.pop()\n",
    "            else:\n",
    "                if _data.iloc[r, 0] > 0:\n",
    "                    _data.iloc[r, 0] = i - r\n",
    "                stack.append([r, curr_high / k])\n",
    "                break\n",
    "        \n",
    "        if not stack:\n",
    "            stack.append([r, curr_high / k])\n",
    "    \n",
    "    if verbose:\n",
    "        print('', end='\\n' if verbose == 'new_line' else '\\r')\n",
    "\n",
    "    _data.insert(0, 'is_insider', _data['high_price'] / _data['low_price'] >= k)\n",
    "    _data.insert(0, 'is_insider_margin', (_data['high_price'] * (1 - margin)) / (_data['low_price'] * (1 + margin)) >= k)\n",
    "\n",
    "    if file_name:\n",
    "        save_parquet(_data, file_name, attach_timestamp=True, postfix=\"prcd\")\n",
    "\n",
    "    return _data\n",
    "\n",
    "\n",
    "def _search(market=None, num_days=None, df=None, min_k=1.001, max_k=1.01, dk=0.001, margin=0.01, verbose=True):\n",
    "    if df is None:\n",
    "        if market is None:\n",
    "            return\n",
    "        df = _load_data(market)\n",
    "\n",
    "    if num_days is not None:\n",
    "        num_samples = num_days * 24 * 60\n",
    "        df = df.iloc[-num_samples:]\n",
    "\n",
    "    print(f'DATA SIZE: {len(df)}', end=\"\\n\\n\")\n",
    "\n",
    "    k = min_k\n",
    "    while k <= max_k:\n",
    "        _data = _preprocess(df, k, margin=margin, verbose=verbose)\n",
    "        \n",
    "        print(f\"[k={k}]\")\n",
    "\n",
    "        num_success_mid = sum(_data['until_target_mid'] < len(_data))\n",
    "        required_mins_avg_mid = sum(_data.loc[_data.loc[:, 'until_target_mid'] < len(_data), 'until_target_mid']) / len(_data)\n",
    "        num_success_low_high = sum(_data['until_target_low_high'] < len(_data))\n",
    "        required_mins_avg_low_high = sum(_data.loc[_data.loc[:, 'until_target_low_high'] < len(_data), 'until_target_low_high']) / len(_data)\n",
    "        sum_is_insider = sum(_data['is_insider'])\n",
    "        sum_is_insider_margin = sum(_data['is_insider_margin'])\n",
    "        \n",
    "        print(f'MID: {num_success_mid / len(_data):.3f}({num_success_mid}), {required_mins_avg_mid:.2f}\\'')\n",
    "        print(f'LOW & HIGH: {num_success_low_high / len(_data):.3f}({num_success_low_high}), {required_mins_avg_low_high:.2f}\\'')\n",
    "        print(f'INSIDER RATE: {sum_is_insider / len(_data):.3f} ({sum_is_insider})')\n",
    "        print(f'INSIDER MARGIN RATE: {sum_is_insider_margin / len(_data):.3f} ({sum_is_insider_margin})')\n",
    "        \n",
    "        if num_success_low_high == 0:\n",
    "            return\n",
    "\n",
    "        k += dk\n",
    "        print()\n",
    "\n",
    "\n",
    "def _simulate(df_candles, inital_balance=1e10, entry_rate=0.014, exit_rate=0.007):\n",
    "    balance = initial_balance\n",
    "    holding_coins = []\n",
    "    \n",
    "    "
   ]
  },
  {
   "cell_type": "code",
   "execution_count": 29,
   "metadata": {
    "colab": {
     "base_uri": "https://localhost:8080/",
     "height": 655
    },
    "id": "w9RxIL6QdF7a",
    "outputId": "7f84c775-23a9-4e07-f43f-400c156e040e"
   },
   "outputs": [
    {
     "data": {
      "text/html": [
       "<div>\n",
       "<style scoped>\n",
       "    .dataframe tbody tr th:only-of-type {\n",
       "        vertical-align: middle;\n",
       "    }\n",
       "\n",
       "    .dataframe tbody tr th {\n",
       "        vertical-align: top;\n",
       "    }\n",
       "\n",
       "    .dataframe thead th {\n",
       "        text-align: right;\n",
       "    }\n",
       "</style>\n",
       "<table border=\"1\" class=\"dataframe\">\n",
       "  <thead>\n",
       "    <tr style=\"text-align: right;\">\n",
       "      <th></th>\n",
       "      <th>market</th>\n",
       "      <th>candle_date_time_utc</th>\n",
       "      <th>candle_date_time_kst</th>\n",
       "      <th>opening_price</th>\n",
       "      <th>high_price</th>\n",
       "      <th>low_price</th>\n",
       "      <th>trade_price</th>\n",
       "      <th>timestamp</th>\n",
       "      <th>candle_acc_trade_price</th>\n",
       "      <th>candle_acc_trade_volume</th>\n",
       "      <th>unit</th>\n",
       "    </tr>\n",
       "  </thead>\n",
       "  <tbody>\n",
       "    <tr>\n",
       "      <th>0</th>\n",
       "      <td>KRW-ETC</td>\n",
       "      <td>2023-02-13T18:48:00</td>\n",
       "      <td>2023-02-14T03:48:00</td>\n",
       "      <td>26540.0</td>\n",
       "      <td>26540.0</td>\n",
       "      <td>26540.0</td>\n",
       "      <td>26540.0</td>\n",
       "      <td>1676314087485</td>\n",
       "      <td>2.013046e+05</td>\n",
       "      <td>7.584952</td>\n",
       "      <td>1</td>\n",
       "    </tr>\n",
       "    <tr>\n",
       "      <th>1</th>\n",
       "      <td>KRW-ETC</td>\n",
       "      <td>2023-02-13T18:47:00</td>\n",
       "      <td>2023-02-14T03:47:00</td>\n",
       "      <td>26540.0</td>\n",
       "      <td>26540.0</td>\n",
       "      <td>26540.0</td>\n",
       "      <td>26540.0</td>\n",
       "      <td>1676314032164</td>\n",
       "      <td>1.108414e+07</td>\n",
       "      <td>417.639170</td>\n",
       "      <td>1</td>\n",
       "    </tr>\n",
       "    <tr>\n",
       "      <th>2</th>\n",
       "      <td>KRW-ETC</td>\n",
       "      <td>2023-02-13T18:46:00</td>\n",
       "      <td>2023-02-14T03:46:00</td>\n",
       "      <td>26520.0</td>\n",
       "      <td>26540.0</td>\n",
       "      <td>26520.0</td>\n",
       "      <td>26540.0</td>\n",
       "      <td>1676313998126</td>\n",
       "      <td>6.438213e+06</td>\n",
       "      <td>242.670676</td>\n",
       "      <td>1</td>\n",
       "    </tr>\n",
       "    <tr>\n",
       "      <th>3</th>\n",
       "      <td>KRW-ETC</td>\n",
       "      <td>2023-02-13T18:43:00</td>\n",
       "      <td>2023-02-14T03:43:00</td>\n",
       "      <td>26530.0</td>\n",
       "      <td>26540.0</td>\n",
       "      <td>26530.0</td>\n",
       "      <td>26540.0</td>\n",
       "      <td>1676313821417</td>\n",
       "      <td>2.781002e+07</td>\n",
       "      <td>1048.208494</td>\n",
       "      <td>1</td>\n",
       "    </tr>\n",
       "    <tr>\n",
       "      <th>4</th>\n",
       "      <td>KRW-ETC</td>\n",
       "      <td>2023-02-13T18:42:00</td>\n",
       "      <td>2023-02-14T03:42:00</td>\n",
       "      <td>26520.0</td>\n",
       "      <td>26530.0</td>\n",
       "      <td>26520.0</td>\n",
       "      <td>26530.0</td>\n",
       "      <td>1676313765265</td>\n",
       "      <td>8.487663e+06</td>\n",
       "      <td>319.966800</td>\n",
       "      <td>1</td>\n",
       "    </tr>\n",
       "    <tr>\n",
       "      <th>...</th>\n",
       "      <td>...</td>\n",
       "      <td>...</td>\n",
       "      <td>...</td>\n",
       "      <td>...</td>\n",
       "      <td>...</td>\n",
       "      <td>...</td>\n",
       "      <td>...</td>\n",
       "      <td>...</td>\n",
       "      <td>...</td>\n",
       "      <td>...</td>\n",
       "      <td>...</td>\n",
       "    </tr>\n",
       "    <tr>\n",
       "      <th>525595</th>\n",
       "      <td>KRW-ETC</td>\n",
       "      <td>2022-02-13T16:45:00</td>\n",
       "      <td>2022-02-14T01:45:00</td>\n",
       "      <td>40020.0</td>\n",
       "      <td>40150.0</td>\n",
       "      <td>40010.0</td>\n",
       "      <td>40150.0</td>\n",
       "      <td>1644770757247</td>\n",
       "      <td>1.195251e+08</td>\n",
       "      <td>2983.833995</td>\n",
       "      <td>1</td>\n",
       "    </tr>\n",
       "    <tr>\n",
       "      <th>525596</th>\n",
       "      <td>KRW-ETC</td>\n",
       "      <td>2022-02-13T16:44:00</td>\n",
       "      <td>2022-02-14T01:44:00</td>\n",
       "      <td>40000.0</td>\n",
       "      <td>40080.0</td>\n",
       "      <td>40000.0</td>\n",
       "      <td>40020.0</td>\n",
       "      <td>1644770683887</td>\n",
       "      <td>2.618156e+07</td>\n",
       "      <td>654.428407</td>\n",
       "      <td>1</td>\n",
       "    </tr>\n",
       "    <tr>\n",
       "      <th>525597</th>\n",
       "      <td>KRW-ETC</td>\n",
       "      <td>2022-02-13T16:43:00</td>\n",
       "      <td>2022-02-14T01:43:00</td>\n",
       "      <td>40050.0</td>\n",
       "      <td>40080.0</td>\n",
       "      <td>40000.0</td>\n",
       "      <td>40000.0</td>\n",
       "      <td>1644770638667</td>\n",
       "      <td>1.893217e+07</td>\n",
       "      <td>473.117016</td>\n",
       "      <td>1</td>\n",
       "    </tr>\n",
       "    <tr>\n",
       "      <th>525598</th>\n",
       "      <td>KRW-ETC</td>\n",
       "      <td>2022-02-13T16:42:00</td>\n",
       "      <td>2022-02-14T01:42:00</td>\n",
       "      <td>40020.0</td>\n",
       "      <td>40090.0</td>\n",
       "      <td>40020.0</td>\n",
       "      <td>40090.0</td>\n",
       "      <td>1644770576618</td>\n",
       "      <td>3.399587e+07</td>\n",
       "      <td>849.022995</td>\n",
       "      <td>1</td>\n",
       "    </tr>\n",
       "    <tr>\n",
       "      <th>525599</th>\n",
       "      <td>KRW-ETC</td>\n",
       "      <td>2022-02-13T16:41:00</td>\n",
       "      <td>2022-02-14T01:41:00</td>\n",
       "      <td>40020.0</td>\n",
       "      <td>40100.0</td>\n",
       "      <td>40010.0</td>\n",
       "      <td>40020.0</td>\n",
       "      <td>1644770519873</td>\n",
       "      <td>4.561233e+07</td>\n",
       "      <td>1139.620973</td>\n",
       "      <td>1</td>\n",
       "    </tr>\n",
       "  </tbody>\n",
       "</table>\n",
       "<p>525600 rows × 11 columns</p>\n",
       "</div>"
      ],
      "text/plain": [
       "         market candle_date_time_utc candle_date_time_kst  opening_price  \\\n",
       "0       KRW-ETC  2023-02-13T18:48:00  2023-02-14T03:48:00        26540.0   \n",
       "1       KRW-ETC  2023-02-13T18:47:00  2023-02-14T03:47:00        26540.0   \n",
       "2       KRW-ETC  2023-02-13T18:46:00  2023-02-14T03:46:00        26520.0   \n",
       "3       KRW-ETC  2023-02-13T18:43:00  2023-02-14T03:43:00        26530.0   \n",
       "4       KRW-ETC  2023-02-13T18:42:00  2023-02-14T03:42:00        26520.0   \n",
       "...         ...                  ...                  ...            ...   \n",
       "525595  KRW-ETC  2022-02-13T16:45:00  2022-02-14T01:45:00        40020.0   \n",
       "525596  KRW-ETC  2022-02-13T16:44:00  2022-02-14T01:44:00        40000.0   \n",
       "525597  KRW-ETC  2022-02-13T16:43:00  2022-02-14T01:43:00        40050.0   \n",
       "525598  KRW-ETC  2022-02-13T16:42:00  2022-02-14T01:42:00        40020.0   \n",
       "525599  KRW-ETC  2022-02-13T16:41:00  2022-02-14T01:41:00        40020.0   \n",
       "\n",
       "        high_price  low_price  trade_price      timestamp  \\\n",
       "0          26540.0    26540.0      26540.0  1676314087485   \n",
       "1          26540.0    26540.0      26540.0  1676314032164   \n",
       "2          26540.0    26520.0      26540.0  1676313998126   \n",
       "3          26540.0    26530.0      26540.0  1676313821417   \n",
       "4          26530.0    26520.0      26530.0  1676313765265   \n",
       "...            ...        ...          ...            ...   \n",
       "525595     40150.0    40010.0      40150.0  1644770757247   \n",
       "525596     40080.0    40000.0      40020.0  1644770683887   \n",
       "525597     40080.0    40000.0      40000.0  1644770638667   \n",
       "525598     40090.0    40020.0      40090.0  1644770576618   \n",
       "525599     40100.0    40010.0      40020.0  1644770519873   \n",
       "\n",
       "        candle_acc_trade_price  candle_acc_trade_volume  unit  \n",
       "0                 2.013046e+05                 7.584952     1  \n",
       "1                 1.108414e+07               417.639170     1  \n",
       "2                 6.438213e+06               242.670676     1  \n",
       "3                 2.781002e+07              1048.208494     1  \n",
       "4                 8.487663e+06               319.966800     1  \n",
       "...                        ...                      ...   ...  \n",
       "525595            1.195251e+08              2983.833995     1  \n",
       "525596            2.618156e+07               654.428407     1  \n",
       "525597            1.893217e+07               473.117016     1  \n",
       "525598            3.399587e+07               849.022995     1  \n",
       "525599            4.561233e+07              1139.620973     1  \n",
       "\n",
       "[525600 rows x 11 columns]"
      ]
     },
     "execution_count": 29,
     "metadata": {},
     "output_type": "execute_result"
    }
   ],
   "source": [
    "data_etc = load_parquet('krw-etc-1m-candle-365-days_20230213191128.parquet')\n",
    "data_etc"
   ]
  },
  {
   "cell_type": "code",
   "execution_count": null,
   "metadata": {
    "id": "Qzz5vTTeXpP1"
   },
   "outputs": [
    {
     "name": "stdout",
     "output_type": "stream",
     "text": [
      "DATA SIZE: 525600\n",
      "\n"
     ]
    },
    {
     "name": "stderr",
     "output_type": "stream",
     "text": [
      "                                                                      \r"
     ]
    },
    {
     "name": "stdout",
     "output_type": "stream",
     "text": [
      "[k=1.001]\n",
      "MID: 0.984(516975), 2513.73'\n",
      "LOW & HIGH: 0.997(524065), 533.67'\n",
      "INSIDER RATE: 0.536 (281722)\n",
      "INSIDER MARGIN RATE: 0.000 (118)\n",
      "\n"
     ]
    },
    {
     "name": "stderr",
     "output_type": "stream",
     "text": [
      "                                                                      \r"
     ]
    },
    {
     "name": "stdout",
     "output_type": "stream",
     "text": [
      "[k=1.0019999999999998]\n",
      "MID: 0.961(505341), 7491.62'\n",
      "LOW & HIGH: 0.988(519263), 1719.22'\n",
      "INSIDER RATE: 0.237 (124478)\n",
      "INSIDER MARGIN RATE: 0.000 (98)\n",
      "\n"
     ]
    },
    {
     "name": "stderr",
     "output_type": "stream",
     "text": [
      "                                                                      \r"
     ]
    },
    {
     "name": "stdout",
     "output_type": "stream",
     "text": [
      "[k=1.0029999999999997]\n",
      "MID: 0.945(496691), 11440.40'\n",
      "LOW & HIGH: 0.978(514057), 3623.84'\n",
      "INSIDER RATE: 0.116 (60835)\n",
      "INSIDER MARGIN RATE: 0.000 (83)\n",
      "\n"
     ]
    },
    {
     "name": "stderr",
     "output_type": "stream",
     "text": [
      "                                                                      \r"
     ]
    },
    {
     "name": "stdout",
     "output_type": "stream",
     "text": [
      "[k=1.0039999999999996]\n",
      "MID: 0.921(484005), 16928.82'\n",
      "LOW & HIGH: 0.965(507451), 5825.81'\n",
      "INSIDER RATE: 0.061 (32239)\n",
      "INSIDER MARGIN RATE: 0.000 (72)\n",
      "\n"
     ]
    },
    {
     "name": "stderr",
     "output_type": "stream",
     "text": [
      "                                                                      \r"
     ]
    },
    {
     "name": "stdout",
     "output_type": "stream",
     "text": [
      "[k=1.0049999999999994]\n",
      "MID: 0.894(469961), 20147.39'\n",
      "LOW & HIGH: 0.956(502514), 8441.84'\n",
      "INSIDER RATE: 0.035 (18280)\n",
      "INSIDER MARGIN RATE: 0.000 (64)\n",
      "\n"
     ]
    },
    {
     "name": "stderr",
     "output_type": "stream",
     "text": [
      "                                                                      \r"
     ]
    },
    {
     "name": "stdout",
     "output_type": "stream",
     "text": [
      "[k=1.0059999999999993]\n",
      "MID: 0.872(458402), 20557.47'\n",
      "LOW & HIGH: 0.948(498233), 9834.78'\n",
      "INSIDER RATE: 0.021 (10901)\n",
      "INSIDER MARGIN RATE: 0.000 (58)\n",
      "\n"
     ]
    },
    {
     "name": "stderr",
     "output_type": "stream",
     "text": [
      "                                                                      \r"
     ]
    },
    {
     "name": "stdout",
     "output_type": "stream",
     "text": [
      "[k=1.0069999999999992]\n",
      "MID: 0.830(436138), 21951.96'\n",
      "LOW & HIGH: 0.945(496770), 11305.58'\n",
      "INSIDER RATE: 0.013 (6688)\n",
      "INSIDER MARGIN RATE: 0.000 (51)\n",
      "\n"
     ]
    },
    {
     "name": "stderr",
     "output_type": "stream",
     "text": [
      "                                                                      \r"
     ]
    },
    {
     "name": "stdout",
     "output_type": "stream",
     "text": [
      "[k=1.0079999999999991]\n",
      "MID: 0.773(406219), 23088.90'\n",
      "LOW & HIGH: 0.928(487742), 13467.66'\n",
      "INSIDER RATE: 0.008 (4381)\n",
      "INSIDER MARGIN RATE: 0.000 (45)\n",
      "\n"
     ]
    },
    {
     "name": "stderr",
     "output_type": "stream",
     "text": [
      "                                                                      \r"
     ]
    },
    {
     "name": "stdout",
     "output_type": "stream",
     "text": [
      "[k=1.008999999999999]\n",
      "MID: 0.689(362076), 20652.69'\n",
      "LOW & HIGH: 0.919(482928), 16535.14'\n",
      "INSIDER RATE: 0.006 (2904)\n",
      "INSIDER MARGIN RATE: 0.000 (40)\n",
      "\n"
     ]
    },
    {
     "name": "stderr",
     "output_type": "stream",
     "text": [
      "                                                                      \r"
     ]
    },
    {
     "name": "stdout",
     "output_type": "stream",
     "text": [
      "[k=1.009999999999999]\n",
      "MID: 0.644(338385), 18874.73'\n",
      "LOW & HIGH: 0.915(480954), 19701.11'\n",
      "INSIDER RATE: 0.004 (1993)\n",
      "INSIDER MARGIN RATE: 0.000 (32)\n",
      "\n"
     ]
    }
   ],
   "source": [
    "_search(df=data_etc, verbose=False)"
   ]
  },
  {
   "cell_type": "code",
   "execution_count": null,
   "metadata": {},
   "outputs": [],
   "source": []
  }
 ],
 "metadata": {
  "colab": {
   "provenance": []
  },
  "kernelspec": {
   "display_name": "Python 3 (ipykernel)",
   "language": "python",
   "name": "python3"
  },
  "language_info": {
   "codemirror_mode": {
    "name": "ipython",
    "version": 3
   },
   "file_extension": ".py",
   "mimetype": "text/x-python",
   "name": "python",
   "nbconvert_exporter": "python",
   "pygments_lexer": "ipython3",
   "version": "3.9.13"
  }
 },
 "nbformat": 4,
 "nbformat_minor": 1
}
